{
  "cells": [
    {
      "cell_type": "markdown",
      "metadata": {
        "id": "jWUQZ7olS4Ts"
      },
      "source": [
        "## Задания"
      ]
    },
    {
      "cell_type": "markdown",
      "metadata": {
        "id": "d97xcXfZTIea"
      },
      "source": [
        "**Задача 1.**\n",
        "\n",
        "Даны четыре действительных числа: x1, y1, x2, y2. Напишите функцию distance(x1, y1, x2, y2), вычисляющая евклидово расстояние ( https://ru.wikipedia.org/wiki/%D0%95%D0%B2%D0%BA%D0%BB%D0%B8%D0%B4%D0%BE%D0%B2%D0%B0_%D0%BC%D0%B5%D1%82%D1%80%D0%B8%D0%BA%D0%B0 ) между точкой (x1,y1) и (x2,y2)."
      ]
    },
    {
      "cell_type": "code",
      "execution_count": 185,
      "metadata": {
        "id": "FwoN8YrfS8S9",
        "colab": {
          "base_uri": "https://localhost:8080/"
        },
        "outputId": "0f7812cb-91aa-4a73-c523-eb8c481f73d4"
      },
      "outputs": [
        {
          "output_type": "stream",
          "name": "stdout",
          "text": [
            "4.47213595499958\n"
          ]
        }
      ],
      "source": [
        "from math import sqrt\n",
        "\n",
        "\n",
        "def distance(x1, y1, x2, y2) -> float:\n",
        "  return sqrt((x2 - x1) ** 2 + (y2 -  y1) ** 2)\n",
        "\n",
        "\n",
        "print(distance(1, 4, 3, 8))"
      ]
    },
    {
      "cell_type": "markdown",
      "metadata": {
        "id": "04v60qczU_fi"
      },
      "source": [
        "**Задача 2.**\n",
        "\n",
        "Написать функцию season(month), принимающую 1 аргумент — номер месяца (от 1 до 12), которая присваивает глобальной переменной s время года, которому этот месяц принадлежит (зима, весна, лето или осень)."
      ]
    },
    {
      "cell_type": "code",
      "execution_count": 184,
      "metadata": {
        "id": "j56j5EvKWsy1",
        "colab": {
          "base_uri": "https://localhost:8080/"
        },
        "outputId": "c7fa89d5-d8c3-4086-b47d-aaeb29000490"
      },
      "outputs": [
        {
          "output_type": "stream",
          "name": "stdout",
          "text": [
            "Winter\n"
          ]
        }
      ],
      "source": [
        "s = None\n",
        "\n",
        "\n",
        "def season(month):\n",
        "    global s\n",
        "    \n",
        "    a = month % 12 + 1\n",
        "    if a < 4:\n",
        "        s = \"Winter\"\n",
        "    elif a < 7:\n",
        "        s = \"Spring\"\n",
        "    elif a < 10:\n",
        "        s = \"Summer\"\n",
        "    else:\n",
        "        s = \"Fall\"\n",
        "\n",
        "\n",
        "season(12)\n",
        "print(s)"
      ]
    },
    {
      "cell_type": "markdown",
      "metadata": {
        "id": "Xo4YtE9XWwJ-"
      },
      "source": [
        "**Задача 3.**\n",
        "\n",
        "Написать функцию is_prime, принимающую 1 аргумент — число от 0 до 1000, и возвращающую True, если оно простое, и False - иначе."
      ]
    },
    {
      "cell_type": "code",
      "execution_count": 178,
      "metadata": {
        "id": "JaI9rY6cW0YA",
        "colab": {
          "base_uri": "https://localhost:8080/"
        },
        "outputId": "b7176b34-160e-4156-9d0b-b1b88879fd87"
      },
      "outputs": [
        {
          "output_type": "stream",
          "name": "stdout",
          "text": [
            "False\n"
          ]
        }
      ],
      "source": [
        "def is_prime(number):\n",
        "  if number == 1:\n",
        "    return False\n",
        "\n",
        "  for div in range(2, number // 2 + 1):\n",
        "    if number % div == 0:\n",
        "      return False\n",
        "\n",
        "  return True\n",
        "\n",
        "print(is_prime(551))"
      ]
    },
    {
      "cell_type": "markdown",
      "metadata": {
        "id": "siBlTugkX5Il"
      },
      "source": [
        "**Задача 4.**\n",
        "\n",
        "Написать функцию reverse_list(lst), которая принимает в качестве аргумента список и возвращаем его в перевернутом виде.\n",
        "\n",
        "Например,\n",
        "- исходный список:  8, 1, 0, 4\n",
        "- полученный список: 4, 0, 1, 8\n",
        "\n",
        "Использовать встроенные функции Python нельзя. "
      ]
    },
    {
      "cell_type": "code",
      "execution_count": 177,
      "metadata": {
        "id": "6YqPaxokYT1_",
        "colab": {
          "base_uri": "https://localhost:8080/"
        },
        "outputId": "13910708-af63-40f4-d8c1-1679ca371522"
      },
      "outputs": [
        {
          "output_type": "stream",
          "name": "stdout",
          "text": [
            "[4, 3, 2, 1]\n"
          ]
        }
      ],
      "source": [
        "def reverse_list(lst):\n",
        "  return lst[::-1]\n",
        "\n",
        "print(reverse_list([1, 2, 3, 4]))"
      ]
    },
    {
      "cell_type": "markdown",
      "metadata": {
        "id": "4UUcGbHWr3wn"
      },
      "source": [
        "**Задача 5.**\n",
        "\n",
        "Распечатайте с 4 по 8 символ фразы \"Привет мир!\" приведенные к верхнему регистру."
      ]
    },
    {
      "cell_type": "code",
      "execution_count": 5,
      "metadata": {
        "id": "ICMD_GzvsETR",
        "colab": {
          "base_uri": "https://localhost:8080/"
        },
        "outputId": "a30234e5-839d-4508-9975-7b0c288acc2a"
      },
      "outputs": [
        {
          "output_type": "stream",
          "name": "stdout",
          "text": [
            "ВЕТ МИ\n"
          ]
        }
      ],
      "source": [
        "hello_world = 'Привет мир!'\n",
        "print(hello_world[3:9].upper())"
      ]
    },
    {
      "cell_type": "markdown",
      "metadata": {
        "id": "Ei25f1pVsQLt"
      },
      "source": [
        "**Задача 6.**\n",
        "\n",
        "Напишите код, который все элементы массива x с нечетными индексами переставит в обратном порядке.\n",
        "\n",
        "Т.е. если x = [0, 1, 2, 3, 4, 5, 6, 7, 8, 9], то код должен получать [0, 9, 2, 7, 4, 5, 6, 3, 8, 1]"
      ]
    },
    {
      "cell_type": "code",
      "execution_count": 176,
      "metadata": {
        "id": "o93nN1cJsXNy",
        "colab": {
          "base_uri": "https://localhost:8080/"
        },
        "outputId": "abc3029a-bacb-47d1-fefc-0efe354e07ef"
      },
      "outputs": [
        {
          "output_type": "stream",
          "name": "stdout",
          "text": [
            "[0, 9, 2, 7, 4, 5, 6, 3, 8, 1]\n"
          ]
        }
      ],
      "source": [
        "x = [0, 1, 2, 3, 4, 5, 6, 7, 8, 9]\n",
        "is_odd = (len(x) % 2 != 0)\n",
        "for i in range(1, len(x) // 2 + 1, 2):\n",
        "    tmp = x[len(x) - i - is_odd]\n",
        "    x[len(x) - i - is_odd]= x[i]\n",
        "    x[i] = tmp\n",
        "\n",
        "print(x)"
      ]
    },
    {
      "cell_type": "markdown",
      "metadata": {
        "id": "-qcaQystsXYY"
      },
      "source": [
        "**Задача 7.**\n",
        "\n",
        "Напишите цикл, который выводит все числа от 0 до 500, делящиеся на 7, если в них есть цифра 8."
      ]
    },
    {
      "cell_type": "code",
      "execution_count": 9,
      "metadata": {
        "id": "5-d0zkldsuvr",
        "colab": {
          "base_uri": "https://localhost:8080/"
        },
        "outputId": "0f6cc3f9-38ec-42fe-8a16-68b5b77dc2e4"
      },
      "outputs": [
        {
          "output_type": "stream",
          "name": "stdout",
          "text": [
            "28\n",
            "98\n",
            "168\n",
            "238\n",
            "308\n",
            "378\n",
            "448\n"
          ]
        }
      ],
      "source": [
        "number = 8\n",
        "while True:\n",
        "  if number > 500:\n",
        "    break\n",
        "  if number % 7 == 0:\n",
        "    print(number)\n",
        "  number += 10"
      ]
    },
    {
      "cell_type": "markdown",
      "metadata": {
        "id": "CTWMY6f9su7P"
      },
      "source": [
        "**Задача 8.**\n",
        "\n",
        "На вход функция more_than_five(lst) получает список из целых чисел. \n",
        "Результатом работы функции должен стать новый список, в котором содержатся только те числа, которые больше 10 по модулю."
      ]
    },
    {
      "cell_type": "code",
      "execution_count": null,
      "metadata": {
        "id": "ChE1X9wvtMzQ"
      },
      "outputs": [],
      "source": [
        "def more_than_five(lst):\n",
        "  return list(filter(lambda number : abs(number) > 10, lst))"
      ]
    },
    {
      "cell_type": "markdown",
      "metadata": {
        "id": "vTu7Ibz2CesK"
      },
      "source": [
        "# Задания"
      ]
    },
    {
      "cell_type": "code",
      "execution_count": 10,
      "metadata": {
        "id": "_SeZ2fV6vaVV"
      },
      "outputs": [],
      "source": [
        "import numpy as np"
      ]
    },
    {
      "cell_type": "markdown",
      "metadata": {
        "id": "EobX-nHRDeT5"
      },
      "source": [
        "**Задача 1.**\n",
        "\n",
        "Создать матрицу размером `10х10` с 0 внутри, и 1 на границах. Например для `3х3`.\n",
        "\n",
        "```\n",
        "1 1 1\n",
        "1 0 1\n",
        "1 1 1\n",
        "```"
      ]
    },
    {
      "cell_type": "code",
      "execution_count": 11,
      "metadata": {
        "id": "MGvbhlGHCiJR",
        "colab": {
          "base_uri": "https://localhost:8080/"
        },
        "outputId": "a08f7022-77f1-469f-9c32-bcf96e3fadb5"
      },
      "outputs": [
        {
          "output_type": "stream",
          "name": "stdout",
          "text": [
            "[[1. 1. 1. 1. 1. 1. 1. 1. 1. 1.]\n",
            " [1. 0. 0. 0. 0. 0. 0. 0. 0. 1.]\n",
            " [1. 0. 0. 0. 0. 0. 0. 0. 0. 1.]\n",
            " [1. 0. 0. 0. 0. 0. 0. 0. 0. 1.]\n",
            " [1. 0. 0. 0. 0. 0. 0. 0. 0. 1.]\n",
            " [1. 0. 0. 0. 0. 0. 0. 0. 0. 1.]\n",
            " [1. 0. 0. 0. 0. 0. 0. 0. 0. 1.]\n",
            " [1. 0. 0. 0. 0. 0. 0. 0. 0. 1.]\n",
            " [1. 0. 0. 0. 0. 0. 0. 0. 0. 1.]\n",
            " [1. 1. 1. 1. 1. 1. 1. 1. 1. 1.]]\n"
          ]
        }
      ],
      "source": [
        "matrix = np.ones((10, 10))\n",
        "matrix[1:-1, 1:-1] = 0\n",
        "print(matrix)"
      ]
    },
    {
      "cell_type": "markdown",
      "metadata": {
        "id": "vnY0gsMOD45W"
      },
      "source": [
        "**Задача 2.**\n",
        "\n",
        "Создать 5x5 матрицу с 1,2,3,4 над диагональю. Все остальные элементы - 0."
      ]
    },
    {
      "cell_type": "code",
      "execution_count": 15,
      "metadata": {
        "id": "tnKHSJApEY4w",
        "colab": {
          "base_uri": "https://localhost:8080/"
        },
        "outputId": "5db75071-30c2-47c8-f053-4cd01e9ab5fb"
      },
      "outputs": [
        {
          "output_type": "stream",
          "name": "stdout",
          "text": [
            "[[0 1 0 0 0]\n",
            " [0 0 2 0 0]\n",
            " [0 0 0 3 0]\n",
            " [0 0 0 0 4]\n",
            " [0 0 0 0 0]]\n"
          ]
        }
      ],
      "source": [
        "matrix = np.diag(np.arange(1, 5), k=1)\n",
        "print(matrix)"
      ]
    },
    {
      "cell_type": "markdown",
      "metadata": {
        "id": "7R26cYEXEsWb"
      },
      "source": [
        "**Задача 3.**\n",
        "\n",
        "Создайте случайную матрицу и вычтите из каждой строки среднее."
      ]
    },
    {
      "cell_type": "code",
      "execution_count": 16,
      "metadata": {
        "id": "eNDIKZPrUbZG",
        "colab": {
          "base_uri": "https://localhost:8080/"
        },
        "outputId": "42447e60-eab7-4d63-a498-007a36192ed6"
      },
      "outputs": [
        {
          "output_type": "stream",
          "name": "stdout",
          "text": [
            "[[ 0.59379307 -2.04917957  0.5551507 ]\n",
            " [-1.17844135 -0.67336555  0.95944203]\n",
            " [-0.34341983 -0.7909957  -1.13672132]\n",
            " [ 1.69631196  0.83427238  0.25354353]]\n",
            "\n",
            "Среднее строки = -0.30007860201281117\n",
            "Среднее строки = -0.2974549572405913\n",
            "Среднее строки = -0.7570456159560065\n",
            "Среднее строки = 0.928042622567029\n",
            "\n",
            " [[ 0.89387167 -1.74910097  0.8552293 ]\n",
            " [-0.88098639 -0.37591059  1.25689698]\n",
            " [ 0.41362579 -0.03395008 -0.3796757 ]\n",
            " [ 0.76826934 -0.09377025 -0.67449909]]\n"
          ]
        }
      ],
      "source": [
        "matrix = np.random.randn(4, 3)\n",
        "print(matrix, end='\\n\\n')\n",
        "\n",
        "for row in matrix:\n",
        "  print('Среднее строки =', np.mean(row))\n",
        "  row -= np.mean(row)\n",
        "\n",
        "print('\\n', matrix)"
      ]
    },
    {
      "cell_type": "markdown",
      "metadata": {
        "id": "CzAqzs7ClCSn"
      },
      "source": [
        "\n",
        "**Задача 4.**\n",
        "\n",
        "Написать функцию, принимающую на вход массив и меняющую знак у элементов, значения которых между 3 и 8. Протестировать на нескольких заданных вами массивах."
      ]
    },
    {
      "cell_type": "code",
      "execution_count": 17,
      "metadata": {
        "id": "63Ki9lyulzec",
        "colab": {
          "base_uri": "https://localhost:8080/"
        },
        "outputId": "3ff4fa64-3e32-48c8-b9c3-3bc79696269a"
      },
      "outputs": [
        {
          "output_type": "stream",
          "name": "stdout",
          "text": [
            "[ 1  2  3 -4 -5 -6 -7  8  9 10]\n",
            "\n",
            "[10  8  2 -6 -4  9  2  3 -4]\n"
          ]
        }
      ],
      "source": [
        "def switch_sign(arr):\n",
        "  arr[(arr > 3) & (arr < 8)] *= -1\n",
        "\n",
        "a = np.array([1, 2, 3, 4, 5, 6, 7, 8, 9, 10])\n",
        "switch_sign(a)\n",
        "b = np.array([10, 8, 2, 6, 4, 9, 2, 3, 4])\n",
        "switch_sign(b)\n",
        "\n",
        "print(a, end='\\n\\n')\n",
        "print(b)"
      ]
    },
    {
      "cell_type": "markdown",
      "metadata": {
        "id": "ha_XRvz7l9rx"
      },
      "source": [
        "**Задача 4.**\n",
        "\n",
        "Написать функцию, принимающую на вход массив и вычитающую среднее из каждой строки в матрице. Протестировать на нескольких заданных вами примерах."
      ]
    },
    {
      "cell_type": "code",
      "execution_count": 18,
      "metadata": {
        "id": "9nkzwep7mB5h",
        "colab": {
          "base_uri": "https://localhost:8080/"
        },
        "outputId": "30f5112a-4ee6-4afb-cf11-434bc5d14e98"
      },
      "outputs": [
        {
          "output_type": "stream",
          "name": "stdout",
          "text": [
            "[[-1.  0.  1.]\n",
            " [-1.  0.  1.]]\n",
            "\n",
            "[[-4.66666667 13.33333333 -8.66666667]\n",
            " [ 1.          3.         -4.        ]\n",
            " [ 5.66666667 -3.33333333 -2.33333333]]\n"
          ]
        }
      ],
      "source": [
        "def rows_minus_mean(matrix):\n",
        "  for row in matrix:\n",
        "    row -= np.mean(row)\n",
        "\n",
        "a = np.array([\n",
        "    [1., 2., 3.],\n",
        "    [7., 8., 9.]\n",
        "])\n",
        "\n",
        "b = np.array([\n",
        "    [7., 25., 3.],\n",
        "    [7., 9., 2.],\n",
        "    [12., 3., 4.]\n",
        "])\n",
        "\n",
        "rows_minus_mean(a)\n",
        "rows_minus_mean(b)\n",
        "\n",
        "print(a, end='\\n\\n')\n",
        "print(b)"
      ]
    },
    {
      "cell_type": "markdown",
      "metadata": {
        "id": "MJJ33mtstr-a"
      },
      "source": [
        "**Задача 5.**\n",
        "\n",
        "Дан вектор [1, 2, 3, 4, 5], построить новый вектор с тремя нулями между каждым значением."
      ]
    },
    {
      "cell_type": "code",
      "execution_count": 19,
      "metadata": {
        "id": "UZLtKFY80D6f",
        "colab": {
          "base_uri": "https://localhost:8080/"
        },
        "outputId": "79d9c69c-b0f8-44a2-99ff-b7747cc557a1"
      },
      "outputs": [
        {
          "output_type": "stream",
          "name": "stdout",
          "text": [
            "[1 0 0 0 2 0 0 0 3 0 0 0 4 0 0 0 5]\n"
          ]
        }
      ],
      "source": [
        "v = np.arange(1, 6)\n",
        "\n",
        "v_len = len(v)\n",
        "new_v = np.zeros(v_len + (v_len - 1) * 3, int)\n",
        "\n",
        "new_v[::4] = v\n",
        "\n",
        "print(new_v)"
      ]
    },
    {
      "cell_type": "markdown",
      "metadata": {
        "id": "KU7g7UVs0EDr"
      },
      "source": [
        "**Задача 6.**\n",
        "\n",
        "\n",
        "Написать функцию, принимающую на вход матрицу MxN и меняющую 2 любые строки в матрице. Протестировать на нескольких заданных вами примерах."
      ]
    },
    {
      "cell_type": "code",
      "execution_count": 57,
      "metadata": {
        "id": "xMzdfDFuKwFw",
        "colab": {
          "base_uri": "https://localhost:8080/"
        },
        "outputId": "8d9c5f4e-04a4-45af-8089-86391a3508d8"
      },
      "outputs": [
        {
          "output_type": "stream",
          "name": "stdout",
          "text": [
            "[[ 9  2 18]\n",
            " [ 9  8  2]\n",
            " [ 2 17  9]\n",
            " [ 8  5 17]\n",
            " [ 1 13 11]] \n",
            "\n",
            "Switching rows 1 and 3\n",
            "\n",
            "[[ 9  2 18]\n",
            " [ 8  5 17]\n",
            " [ 2 17  9]\n",
            " [ 9  8  2]\n",
            " [ 1 13 11]]\n"
          ]
        }
      ],
      "source": [
        "def switch_rows(matrix):\n",
        "  row1 = np.random.randint(len(matrix))\n",
        "  row2 = np.random.randint(len(matrix))\n",
        "  while row2 == row1:\n",
        "    row2 = np.random.randint(len(matrix))\n",
        "\n",
        "  print(f'Switching rows {row1} and {row2}\\n')\n",
        "  \n",
        "  matrix[[row1, row2]] = matrix[[row2, row1]]\n",
        "\n",
        "matrix = np.random.randint(20, size=(5, 3))\n",
        "print(matrix, '\\n')\n",
        "switch_rows(matrix)\n",
        "print(matrix)"
      ]
    },
    {
      "cell_type": "markdown",
      "metadata": {
        "id": "Kiva3bYH0Z9S"
      },
      "source": [
        "**Задача 7.**\n",
        "\n",
        "\n",
        "Написать функцию, принимающую на вход одномерный массив и возвращающую наиболее частое значение в массиве и частоту его встречи. Протестировать на нескольких заданных вами примерах."
      ]
    },
    {
      "cell_type": "code",
      "execution_count": 58,
      "metadata": {
        "id": "Fmnb7-e70YdF",
        "colab": {
          "base_uri": "https://localhost:8080/"
        },
        "outputId": "f5ab1c24-4335-4c37-dbe6-409044730103"
      },
      "outputs": [
        {
          "output_type": "stream",
          "name": "stdout",
          "text": [
            "[7, 4]\n"
          ]
        }
      ],
      "source": [
        "def number_freq(lst):\n",
        "  values, counts = np.unique(lst, return_counts=True)\n",
        "  ind_max = np.argmax(counts)\n",
        "  return [values[ind_max], counts[ind_max]]\n",
        "\n",
        "a = np.array([1, 1, 2, 3, 7, 7, 7, 8, 2, 7, 9, 1, 5])\n",
        "print(number_freq(a))"
      ]
    },
    {
      "cell_type": "markdown",
      "metadata": {
        "id": "CA6upOsg0vuY"
      },
      "source": [
        "**Задача 8.** \n",
        "\n",
        "Написать функцию, принимающую на вход  массив 16x16 и считающую сумму по блокам 4x4. Протестировать на нескольких заданных вами примерах."
      ]
    },
    {
      "cell_type": "code",
      "execution_count": 59,
      "metadata": {
        "id": "biNnN0Gb056o",
        "colab": {
          "base_uri": "https://localhost:8080/"
        },
        "outputId": "e59afd8b-5d73-4f2c-8956-6108c1111cb5"
      },
      "outputs": [
        {
          "output_type": "stream",
          "name": "stdout",
          "text": [
            "[[7 6 0 7 5 9 7 0 9 8 4 8 7 7 4 3]\n",
            " [8 3 6 3 0 0 3 4 4 3 3 5 9 0 7 9]\n",
            " [7 4 5 6 9 4 9 5 0 8 8 8 8 5 5 1]\n",
            " [9 6 7 0 6 6 6 7 3 8 9 8 1 8 2 6]\n",
            " [2 3 3 3 4 8 4 8 7 6 3 3 4 0 5 5]\n",
            " [5 5 5 1 1 5 2 8 0 8 7 6 1 4 5 8]\n",
            " [0 0 3 7 1 5 7 6 8 0 1 4 6 7 4 7]\n",
            " [2 9 5 2 6 5 3 0 7 7 9 8 1 1 3 5]\n",
            " [8 0 6 7 9 3 6 2 9 5 3 3 3 9 5 1]\n",
            " [6 9 9 8 8 4 9 6 1 5 3 1 5 3 9 8]\n",
            " [0 8 1 2 7 7 6 3 7 4 2 2 6 0 3 7]\n",
            " [7 5 0 1 8 7 0 8 2 0 6 3 7 4 4 1]\n",
            " [4 5 9 1 4 7 7 2 8 9 9 8 4 9 7 0]\n",
            " [4 9 6 6 6 3 8 0 7 7 4 6 8 0 4 0]\n",
            " [0 3 1 4 7 2 9 7 1 7 8 0 6 0 4 2]\n",
            " [5 7 1 2 2 5 7 6 9 1 0 3 0 6 2 2]]\n",
            "\n",
            "[[7 6 0 7]\n",
            " [8 3 6 3]\n",
            " [7 4 5 6]\n",
            " [9 6 7 0]] \n",
            " 84\n",
            "\n",
            "[[5 9 7 0]\n",
            " [0 0 3 4]\n",
            " [9 4 9 5]\n",
            " [6 6 6 7]] \n",
            " 80\n",
            "\n",
            "[[2 3 3 3]\n",
            " [5 5 5 1]\n",
            " [0 0 3 7]\n",
            " [2 9 5 2]] \n",
            " 55\n",
            "\n",
            "[[4 8 4 8]\n",
            " [1 5 2 8]\n",
            " [1 5 7 6]\n",
            " [6 5 3 0]] \n",
            " 73\n",
            "\n"
          ]
        }
      ],
      "source": [
        "def sixteen_by_sixteen(matrix):\n",
        "  for i in range(2):\n",
        "    for j in range(2):\n",
        "      tmp = matrix[i*4:(i+1)*4, j*4:(j+1)*4]\n",
        "      print(tmp, '\\n', np.sum(tmp), end='\\n\\n')\n",
        "\n",
        "m = np.random.randint(10, size=(16, 16))\n",
        "print(m, end='\\n\\n')\n",
        "sixteen_by_sixteen(m)"
      ]
    },
    {
      "cell_type": "markdown",
      "metadata": {
        "id": "a5jYWrLl06BY"
      },
      "source": [
        "**Задача 9.**\n",
        "\n",
        "Написать функцию, принимающую на вход матрицу и возвращающую n наибольших значений в массиве. n вводится с клавиатуры. Протестировать на нескольких заданных вами примерах."
      ]
    },
    {
      "cell_type": "code",
      "execution_count": 60,
      "metadata": {
        "id": "WflOzZRy1BRy",
        "colab": {
          "base_uri": "https://localhost:8080/"
        },
        "outputId": "83fae133-b6ba-4494-a062-97aa5b2c1500"
      },
      "outputs": [
        {
          "output_type": "stream",
          "name": "stdout",
          "text": [
            "Enter amount of big values you want to find: 6\n",
            "[ 8 18 17  5  3 19 19 11 12  6]\n",
            "[11 12 17 18 19 19]\n"
          ]
        }
      ],
      "source": [
        "def max_values(matrix, n):\n",
        "  ind = np.argpartition(a, -n)[-n:]\n",
        "  return matrix[ind]\n",
        "\n",
        "n = int(input('Enter amount of big values you want to find: '))\n",
        "a = np.random.randint(20, size=n+4)\n",
        "print(a)\n",
        "\n",
        "m = max_values(a, n)\n",
        "print(m)"
      ]
    },
    {
      "cell_type": "markdown",
      "metadata": {
        "id": "UbB8AuQA1BY0"
      },
      "source": [
        "**Задача 10.**\n",
        "\n",
        "Написать функцию, принимающую на вход 10x3 матрица и находящую строки из неравных значений (например [2,2,3]). Протестировать на нескольких заданных вами примерах."
      ]
    },
    {
      "cell_type": "code",
      "execution_count": 68,
      "metadata": {
        "id": "YOKf8gMB1JCS",
        "colab": {
          "base_uri": "https://localhost:8080/"
        },
        "outputId": "2443d353-38e6-4343-868d-bb29cfcbf4ea"
      },
      "outputs": [
        {
          "output_type": "stream",
          "name": "stdout",
          "text": [
            "[[0 2 1]\n",
            " [2 1 2]\n",
            " [2 0 0]\n",
            " [2 0 1]\n",
            " [1 2 2]\n",
            " [1 2 1]\n",
            " [0 0 1]\n",
            " [2 0 1]\n",
            " [1 1 2]\n",
            " [2 2 2]]\n",
            "\n",
            "[[0 2 1]\n",
            " [2 1 2]\n",
            " [2 0 0]\n",
            " [2 0 1]\n",
            " [1 2 2]\n",
            " [1 2 1]\n",
            " [0 0 1]\n",
            " [2 0 1]\n",
            " [1 1 2]]\n"
          ]
        }
      ],
      "source": [
        "def find_unequal(matrix):\n",
        "  is_equal = np.logical_and.reduce(matrix[:,1:] == matrix[:,:-1], axis=1)\n",
        "  return matrix[~is_equal]\n",
        "\n",
        "\n",
        "matrix = np.random.randint(3, size=(10, 3))\n",
        "print(matrix, end='\\n\\n')\n",
        "unequalities = find_unequal(matrix)\n",
        "print(unequalities)\n"
      ]
    },
    {
      "cell_type": "markdown",
      "metadata": {
        "id": "kDOcG70_1JJi"
      },
      "source": [
        "**Задача 11.**\n",
        "\n",
        "Написать функцию, принимающую на вход двумерный массив и находящую все различные строки. Протестировать на нескольких заданных вами примерах."
      ]
    },
    {
      "cell_type": "code",
      "execution_count": 86,
      "metadata": {
        "id": "Z370pCG41mUU",
        "colab": {
          "base_uri": "https://localhost:8080/"
        },
        "outputId": "31885ad7-2c36-4799-dc2f-48342c75b95b"
      },
      "outputs": [
        {
          "output_type": "stream",
          "name": "stdout",
          "text": [
            "[[2 0 0 2 0]\n",
            " [2 1 1 1 2]\n",
            " [1 0 2 2 0]\n",
            " [1 0 0 0 0]\n",
            " [1 1 2 1 2]]\n",
            "\n",
            "[[1 0 0 0 0]\n",
            " [1 0 2 2 0]\n",
            " [1 1 2 1 2]\n",
            " [2 0 0 2 0]\n",
            " [2 1 1 1 2]]\n",
            "\n",
            "[[1 3 4]\n",
            " [1 3 4]\n",
            " [7 8 9]\n",
            " [5 6 9]\n",
            " [1 3 4]]\n",
            "\n",
            "[[1 3 4]\n",
            " [5 6 9]\n",
            " [7 8 9]]\n"
          ]
        }
      ],
      "source": [
        "def find_unique_rows(matrix):\n",
        "  return np.unique(matrix, axis=0)\n",
        "  \n",
        "\n",
        "matrix = np.random.randint(3, size=(5, 5))\n",
        "print(matrix, end='\\n\\n')\n",
        "unique_rows = find_unique_rows(matrix)\n",
        "print(unique_rows, end='\\n\\n')\n",
        "\n",
        "matrix = np.array([\n",
        "    [1, 3, 4],\n",
        "    [1, 3, 4],\n",
        "    [7, 8, 9],\n",
        "    [5, 6, 9],\n",
        "    [1, 3, 4]\n",
        "])\n",
        "print(matrix, end='\\n\\n')\n",
        "unique_rows = find_unique_rows(matrix)\n",
        "print(unique_rows)"
      ]
    },
    {
      "cell_type": "markdown",
      "metadata": {
        "id": "xLnW1uIL1mc_"
      },
      "source": [
        "**Задача 12.**\n",
        "\n",
        "Написать функцию, принимающую на вход два вектора одинакого размера и считающую расстояние между векторами. Протестировать на нескольких заданных вами примерах."
      ]
    },
    {
      "cell_type": "code",
      "execution_count": 88,
      "metadata": {
        "id": "yYu-Qco323yW",
        "colab": {
          "base_uri": "https://localhost:8080/"
        },
        "outputId": "a54a6e3e-58ba-4a70-a1b7-edcd67bdf04d"
      },
      "outputs": [
        {
          "output_type": "stream",
          "name": "stdout",
          "text": [
            "Vector 1: [4 1 0]\n",
            "Vector 2: [1 1 4]\n",
            "\n",
            "Distance between vector1 and vector2: 5.0\n"
          ]
        }
      ],
      "source": [
        "def distance_between(vector1, vector2):\n",
        "  return np.linalg.norm(vector1 - vector2)\n",
        "\n",
        "vect1 = np.random.randint(5, size=3)\n",
        "vect2 = np.random.randint(5, size=3)\n",
        "\n",
        "print(f'Vector 1: {vect1}\\nVector 2: {vect2}\\n')\n",
        "dist = distance_between(vect1, vect2)\n",
        "print(f'Distance between vector1 and vector2: {dist}')"
      ]
    },
    {
      "cell_type": "markdown",
      "metadata": {
        "id": "jcl3nZ-Y236p"
      },
      "source": [
        "**Задача 13.**\n",
        "\n",
        "Написать функцию, принимающую на вход два вектора одинакого размера и находящую косинус угла между векторами. Протестировать на нескольких заданных вами примерах."
      ]
    },
    {
      "cell_type": "code",
      "execution_count": 94,
      "metadata": {
        "id": "GjM3s2YN3NEY",
        "colab": {
          "base_uri": "https://localhost:8080/"
        },
        "outputId": "1eb34eea-bd3b-48f3-812b-8d78f459e454"
      },
      "outputs": [
        {
          "output_type": "stream",
          "name": "stdout",
          "text": [
            "Vector 1: [4 4 2]\n",
            "Vector 2: [0 3 4]\n",
            "\n",
            "Cos between vector1 and vector2: 0.6666666666666666\n"
          ]
        }
      ],
      "source": [
        "def get_cos(vector1, vector2):\n",
        "  dot = np.dot(vector1, vector2)\n",
        "  v1_length = np.linalg.norm(vector1)\n",
        "  v2_length = np.linalg.norm(vector2)\n",
        "\n",
        "  return dot / (v1_length * v2_length)\n",
        "\n",
        "vect1 = np.random.randint(5, size=3)\n",
        "vect2 = np.random.randint(5, size=3)\n",
        "print(f'Vector 1: {vect1}\\nVector 2: {vect2}\\n')\n",
        "\n",
        "cos = get_cos(vect1, vect2)\n",
        "print(f'Cos between vector1 and vector2: {cos}')"
      ]
    },
    {
      "cell_type": "markdown",
      "metadata": {
        "id": "NOGrxa9o3WLZ"
      },
      "source": [
        "**Задача 14.**\n",
        "\n",
        "Написать функцию, принимающую на вход вектор A содержит float числа как больше, так и меньше нуля.\n",
        "\n",
        "Функция должна округлить их до целых и результат записать в глобальную переменную Z. Округление должно быть \"от нуля\", т.е.:\n",
        "\n",
        "- положительные числа округляем всегда вверх до целого\n",
        "- отрицательные числа округляем всегда вниз до целого\n",
        "- 0 остаётся 0\n",
        "\n",
        " Протестировать на нескольких заданных вами примерах.\n"
      ]
    },
    {
      "cell_type": "code",
      "execution_count": 123,
      "metadata": {
        "id": "x-RztsfF37Yt",
        "colab": {
          "base_uri": "https://localhost:8080/"
        },
        "outputId": "23508e62-578e-476c-9559-5b9feb7cbab9"
      },
      "outputs": [
        {
          "output_type": "stream",
          "name": "stdout",
          "text": [
            "[-10.93121061  -3.10622667  -1.80414747  11.39808   ]\n",
            "[-11.  -4.  -2.  12.]\n"
          ]
        }
      ],
      "source": [
        "Z = None\n",
        "\n",
        "\n",
        "def round_vector(vector):\n",
        "  global Z\n",
        "  Z = np.where(vector < 0, \n",
        "              np.floor(vector), \n",
        "              np.where(vector > 0, np.ceil(vector), vector))\n",
        "\n",
        "\n",
        "A = np.random.randn(4) * 10\n",
        "print(A)\n",
        "round_vector(A)\n",
        "print(Z)"
      ]
    },
    {
      "cell_type": "markdown",
      "metadata": {
        "id": "6V2Z2SNX37jT"
      },
      "source": [
        "**Задача 15.**\n",
        "\n",
        "Написать функцию, принимающую на вход 2 вектора целых чисел A и B.\n",
        "\n",
        "Функция должна находить числа, встречающиеся в обоих векторах и добавлять их по возрастанию в глобальную переменную - вектор Z.\n",
        "\n",
        "*Если пересечений нет, то вектор Z будет пустым*.\n",
        "\n",
        " Протестировать на нескольких заданных вами примерах."
      ]
    },
    {
      "cell_type": "code",
      "execution_count": 163,
      "metadata": {
        "id": "ThxIR2zN4PFr",
        "colab": {
          "base_uri": "https://localhost:8080/"
        },
        "outputId": "8c8c7023-b5bf-4b49-8dc4-a11cfaef424e"
      },
      "outputs": [
        {
          "output_type": "stream",
          "name": "stdout",
          "text": [
            "Vector 1: [7]\n",
            "Vector 2: [6]\n",
            "\n",
            "[]\n"
          ]
        }
      ],
      "source": [
        "Z = None\n",
        "\n",
        "\n",
        "def same_values(vector1, vector2):\n",
        "  global Z\n",
        "  Z = np.intersect1d(vector1, vector2)\n",
        "\n",
        "vect1 = np.random.randint(10, size=8)\n",
        "vect2 = np.random.randint(10, size=8)\n",
        "\n",
        "print(f'Vector 1: {vect1}\\nVector 2: {vect2}\\n')\n",
        "\n",
        "same_values(vect1, vect2)\n",
        "\n",
        "print(Z)"
      ]
    },
    {
      "cell_type": "markdown",
      "metadata": {
        "id": "GeUr4BbI433N"
      },
      "source": [
        "**Задача 16.**\n",
        "\n",
        "Написать функцию, принимающую на вход вектор и возвращающую максимальный элемент в векторе среди элементов, перед которыми стоит 0. \n",
        "\n",
        "Например для:\n",
        "\n",
        "`x = np.array([6, 2, 0, 3, 0, 0, 5, 7, 0])`\n",
        "\n",
        "Ответ:\n",
        "5"
      ]
    },
    {
      "cell_type": "code",
      "execution_count": 148,
      "metadata": {
        "id": "TVHVE4RB50Ti",
        "colab": {
          "base_uri": "https://localhost:8080/"
        },
        "outputId": "99b5fccc-2f94-49e8-b02e-f90b74b74224"
      },
      "outputs": [
        {
          "output_type": "stream",
          "name": "stdout",
          "text": [
            "5\n"
          ]
        }
      ],
      "source": [
        "def max_after_zero(vector):\n",
        "  zeros = (vector == 0)\n",
        "  return np.max(vector[1:][zeros[:-1]])\n",
        "\n",
        "\n",
        "x = np.array([6, 2, 0, 3, 0, 0, 5, 7, 0])\n",
        "result = max_after_zero(x)\n",
        "print(result)"
      ]
    },
    {
      "cell_type": "markdown",
      "metadata": {
        "id": "3w6cbF5m438U"
      },
      "source": [
        "**Задача 17.**\n",
        "\n",
        "Написать функцию, принимающую на вход матрицу 5х3 и считающую длину каждого вектора в матрице (строка) и ищущую самый длинный вектор, вернуть его координаты и длину.\n",
        "\n",
        "Как выглядит матрица:\n",
        "\n",
        "```   \n",
        "     | x | y | z |\n",
        "     | 1 | 2 | 3 |\n",
        "     | 3 | 4 | 1 |\n",
        "     | ...       |\n",
        "```"
      ]
    },
    {
      "cell_type": "code",
      "source": [
        "def longest_vector(matrix):\n",
        "  norms = np.linalg.norm(matrix, axis=1)\n",
        "  max_length = norms.max()\n",
        "  max_vector = matrix[np.where(norms == max_length)[0][0]]\n",
        "\n",
        "  return max_vector, max_length\n",
        "\n",
        "\n",
        "matrix = np.random.randint(20, size=(5, 3))\n",
        "print(matrix, '\\n')\n",
        "\n",
        "result = longest_vector(matrix)\n",
        "print(f'The longest vector: {result[0]}\\nIts length: {result[1]}')"
      ],
      "metadata": {
        "colab": {
          "base_uri": "https://localhost:8080/"
        },
        "id": "TC6p76Xd8g9A",
        "outputId": "14d29da9-50d8-4d9f-d84a-dc9f7aa6ad43"
      },
      "execution_count": 175,
      "outputs": [
        {
          "output_type": "stream",
          "name": "stdout",
          "text": [
            "[[ 0  6  5]\n",
            " [ 0  0  1]\n",
            " [ 6 13  7]\n",
            " [16 13  5]\n",
            " [ 4  9  3]] \n",
            "\n",
            "The longest vector: [16 13  5]\n",
            "Its length: 21.213203435596427\n"
          ]
        }
      ]
    }
  ],
  "metadata": {
    "colab": {
      "collapsed_sections": [
        "xq5kwdSxKnJI"
      ],
      "provenance": []
    },
    "kernelspec": {
      "display_name": "Python 3.10.4 64-bit",
      "language": "python",
      "name": "python3"
    },
    "language_info": {
      "name": "python",
      "version": "3.10.4"
    },
    "vscode": {
      "interpreter": {
        "hash": "df89a35c3dacc890248c9eaf1af78674261a72605dca20e1e0ec28f2b99ee593"
      }
    }
  },
  "nbformat": 4,
  "nbformat_minor": 0
}